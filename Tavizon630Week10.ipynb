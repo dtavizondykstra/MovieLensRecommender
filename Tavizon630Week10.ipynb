{
  "nbformat": 4,
  "nbformat_minor": 0,
  "metadata": {
    "colab": {
      "provenance": []
    },
    "kernelspec": {
      "name": "python3",
      "display_name": "Python 3"
    },
    "language_info": {
      "name": "python"
    }
  },
  "cells": [
    {
      "cell_type": "code",
      "source": [
        "# Dalia Tavizon-Dykstra\n",
        "# DSC 630\n",
        "# Week 10"
      ],
      "metadata": {
        "id": "owAOlI2_zz2k"
      },
      "execution_count": 21,
      "outputs": []
    },
    {
      "cell_type": "markdown",
      "source": [
        "### Blackboard Instructions\n",
        "* Using the small MovieLens data set, create a recommender system that allows users to input a movie they like (in the data set) and recommends ten other movies for them to watch. In your write-up, clearly explain the recommender system process and all steps performed. If you are using a method found online, be sure to reference the source.\n",
        "You can use R or Python to complete this assignment. Submit your code and output to the submission link. Make sure to add comments to all of your code and to document your steps, process, and analysis.\n",
        "\n",
        "\n",
        "---\n",
        "\n",
        "### Introduction\n",
        "* In this project, I developed a recommender system using the MovieLens dataset. The goal of the recommender system is to suggest ten movies to users based on a movie they like. I used content-based filtering techniques, focusing on movie genres and tags, to achieve this.\n",
        "\n",
        "### Importing the data\n",
        "* Importing necessary libraries and load the CSV files into Pandas DataFrames."
      ],
      "metadata": {
        "id": "AUPMkDw4RAAo"
      }
    },
    {
      "cell_type": "code",
      "execution_count": 22,
      "metadata": {
        "id": "Xd64oXMaLi0P"
      },
      "outputs": [],
      "source": [
        "# 1. Importing the libraries\n",
        "import pandas as pd\n",
        "from sklearn.metrics.pairwise import cosine_similarity\n",
        "from sklearn.feature_extraction.text import CountVectorizer\n",
        "\n",
        "# Enabling Data Table Functionality in Google Colab for better DataFrame visualization:\n",
        "from google.colab import data_table\n",
        "data_table.enable_dataframe_formatter()\n",
        "\n",
        "import warnings\n",
        "# Suppress all warnings\n",
        "warnings.filterwarnings(\"ignore\")\n",
        "\n",
        "# Setting Pandas display options to avoid scientific notation in float numbers for better readability:\n",
        "pd.options.display.float_format = '{:.2f}'.format\n"
      ]
    },
    {
      "cell_type": "markdown",
      "source": [
        "### Loading the data\n",
        "* Loading the CSV files into DataFrames to work with the data. This includes movies, ratings, tags, and links datasets."
      ],
      "metadata": {
        "id": "_nJCsjMNOQyR"
      }
    },
    {
      "cell_type": "code",
      "source": [
        "# 2. Loading the datasets\n",
        "movies = pd.read_csv('https://raw.githubusercontent.com/dtavizondykstra/BU_Datasets/main/DSC630_PredictiveAnalytics/Week11/links.csv')\n",
        "links = pd.read_csv('https://raw.githubusercontent.com/dtavizondykstra/BU_Datasets/main/DSC630_PredictiveAnalytics/Week11/movies.csv')\n",
        "ratings = pd.read_csv('https://raw.githubusercontent.com/dtavizondykstra/BU_Datasets/main/DSC630_PredictiveAnalytics/Week11/ratings.csv')\n",
        "tags = pd.read_csv('https://raw.githubusercontent.com/dtavizondykstra/BU_Datasets/main/DSC630_PredictiveAnalytics/Week11/tags.csv')"
      ],
      "metadata": {
        "id": "r-LkMHjhORF0"
      },
      "execution_count": 23,
      "outputs": []
    },
    {
      "cell_type": "markdown",
      "source": [
        "### Merging the datasets\n",
        "* Merging the datasets to create a unified DataFrame with all necessary information. Merging the datasets helps combine all relevant information into one place, making it easier to work with and analyze.\n",
        "  * I aggregated the tags for each movie to create a combined feature column for building the recommender system. Aggregating tags and combining them with genres creates a comprehensive feature set that describes each movie, which is crucial for calculating similarities.\n",
        "  * I calculated the average rating for each movie and merged this information with the main DataFrame. Including average ratings allows us to consider the popularity of movies, which can be useful for recommendation purposes."
      ],
      "metadata": {
        "id": "8EfUxv6-O7HP"
      }
    },
    {
      "cell_type": "code",
      "source": [
        "# 4. Merge links and movies dataframes to get titles and genres\n",
        "movie_details = pd.merge(links, movies, on='movieId')\n",
        "\n",
        "# 5. Merge tags with movie details\n",
        "movie_tags = pd.merge(tags, movie_details, on='movieId')\n",
        "\n",
        "# 6. Aggregate tags for each movie\n",
        "tags_agg = movie_tags.groupby('title')['tag'].apply(lambda x: ' '.join(x)).reset_index()\n",
        "\n",
        "# 7. Merge the aggregated tags with the movie details dataframe\n",
        "movies_with_tags = pd.merge(movie_details, tags_agg, on='title', how='left')\n",
        "\n",
        "# 8. Fill NaN values in the 'tag' column with an empty string\n",
        "movies_with_tags['tag'].fillna('', inplace=True)\n",
        "\n",
        "# 9. Create a combined feature column with 'genres' and 'tag'\n",
        "movies_with_tags['combined_features'] = movies_with_tags['genres'] + ' ' + movies_with_tags['tag']\n",
        "\n",
        "# 10. Calculate the average rating for each movie\n",
        "avg_ratings = ratings.groupby('movieId')['rating'].mean().reset_index()\n",
        "\n",
        "# 11. Merge the average ratings with the movies_with_tags dataframe\n",
        "movies_with_tags = pd.merge(movies_with_tags, avg_ratings, on='movieId', how='left')\n",
        "\n",
        "# 12. Display the first few rows of the combined dataframe\n",
        "# movies_with_tags.head()\n"
      ],
      "metadata": {
        "id": "SNSLxpc3R7pz"
      },
      "execution_count": 24,
      "outputs": []
    },
    {
      "cell_type": "markdown",
      "source": [
        "### Building the Recommender System\n",
        "To build the recommender system, I focused on using cosine similarity based on combined features of genres and tags.\n",
        "\n",
        "**Step 1: Vectorizing Features with CountVectorizer**\n",
        "* The CountVectorizer serves as a sort of translator. Each movie is described by a combination of words (features) that tell us about its genre and the tags associated with it, like \"comedy,\" \"drama,\" \"adventure,\" or \"space,\" \"robot,\" \"romantic.\" The CountVectorizer takes all these words and creates a numerical code that represents each movie based on how frequently each word appears.\n",
        "  * Translating movie descriptions into numbers helps compare movies systematically.\n",
        "\n",
        "**How It Works**\n",
        "1. **Collects Words:** The CountVectorizer first looks at all the words used to describe all the movies.\n",
        "2. **Counts Words:** It then counts how many times each word appears in the description of each movie.\n",
        "3. **Creates a Matrix:** Finally, it creates a big table (or matrix) where each row represents a movie, each column represents a word, and each cell contains the count of how many times that word appears in that movie's description.\n",
        "\n",
        "**For example, take the data below, to which the CountVectorizer might create a matrix like this:**\n",
        "* Movie A: \"comedy adventure\"\n",
        "* Movie B: \"drama romantic\"\n",
        "* Movie C: \"comedy drama\"\n",
        "\n",
        "| Movie | Comedy | Adventure | Drama | Romantic |\n",
        "|---|---|---|---|---|\n",
        "| Movie A | 1 | 1 | 0 | 0 |\n",
        "| Movie B | 0 | 0 | 1 | 1 |\n",
        "| Movie C | 1 | 0 | 1 | 0 |\n",
        "\n",
        "\n",
        "* *Each row is a numerical representation of a movie based on the presence of descriptive words.*\n",
        "\n",
        "**Step 2: Calculating Cosine Similarity**\n",
        "* After the matrix of numbers has been created, a way to compare the rows (movies) to each other to see how similar they are is needed -- this is where cosine similarity comes in.\n",
        "\n",
        "**What is Cosine Similarity?**\n",
        "* To understand how Cosine Similarity is helpful in this project, it may help to imagine each movie's row of numbers as a point in a multi-dimensional space. Cosine similarity measures the angle between the points. If two movies have similar descriptions, the angle between them will be small, and the cosine of this angle will be close to 1. If their descriptions are very different, then the angle will be larger, and the cosine will be closer to 0.\n",
        "  * Cosine similarity measures the similarity between two movies based on the overlap in their descriptive keywords rather than the total number of words used. Sort of like comparing the angles of two spotlights – cosine similarity cares where they point, not how bright they are.\n",
        "\n",
        "**Step 3: Creating the Recommender System**\n",
        "* With cosine similarity, I created a function to find and recommend movies similar to a given movie.\n",
        "  * **Input:** A movie title that the user likes.\n",
        "  * **Process:**\n",
        "    * Find the row corresponding to this movie in the similarity matrix.\n",
        "    * Sort the movies based on their similarity scores.\n",
        "    * Exclude the input movie from the recommendations.\n",
        "    * Return the top 10 most similar movies.\n",
        "\n"
      ],
      "metadata": {
        "id": "3iwVsHMoPYUj"
      }
    },
    {
      "cell_type": "code",
      "source": [
        "# 13. Create a CountVectorizer object\n",
        "count_vectorizer = CountVectorizer(stop_words='english')\n",
        "\n",
        "# 14. Fit and transform the combined features column\n",
        "count_matrix = count_vectorizer.fit_transform(movies_with_tags['combined_features'])\n",
        "\n",
        "# 15. Compute the cosine similarity matrix\n",
        "cosine_sim = cosine_similarity(count_matrix, count_matrix)\n",
        "\n",
        "# 16. Create a DataFrame for the cosine similarity matrix\n",
        "cosine_sim_df = pd.DataFrame(cosine_sim, index=movies_with_tags['title'], columns=movies_with_tags['title'])\n"
      ],
      "metadata": {
        "id": "xrG7z1rJPXs3"
      },
      "execution_count": 25,
      "outputs": []
    },
    {
      "cell_type": "markdown",
      "source": [
        "### Creating the Recommendation Function\n",
        "* I created a function that takes a movie title as input and returns the top 10 recommended movies.This function allows users to input a movie they like and get a list of similar movies, leveraging the cosine similarity scores."
      ],
      "metadata": {
        "id": "VatgYH3uPcQU"
      }
    },
    {
      "cell_type": "code",
      "source": [
        "# 17. Function to get movie recommendations\n",
        "def recommend_movies(movie_title, num_recommendations=10):\n",
        "    # Get the similarity scores for the input movie\n",
        "    sim_scores = cosine_sim_df[movie_title].sort_values(ascending=False)\n",
        "\n",
        "    # Exclude the input movie from the the top 10 recommendations\n",
        "    sim_scores = sim_scores.drop(movie_title).head(num_recommendations)\n",
        "\n",
        "    # Return the recommended movies\n",
        "    return sim_scores.index.tolist()\n"
      ],
      "metadata": {
        "id": "9XQuT2baOT3T"
      },
      "execution_count": 26,
      "outputs": []
    },
    {
      "cell_type": "markdown",
      "source": [
        "### Test the Function with Real User Input\n",
        "* I tested the recommendation function with a real movie title to verify its correctness. Testing the function ensures that the recommender system works as expected and provides relevant recommendations. Testing the function ensures that the recommender system works as expected and provides relevant recommendations. The movie recommendations returned, seem congruent with the chosen movie."
      ],
      "metadata": {
        "id": "fQD8rx1ySQPc"
      }
    },
    {
      "cell_type": "code",
      "source": [
        "# 18. Test the recommendation function\n",
        "recommend_movies('Toy Story (1995)')"
      ],
      "metadata": {
        "colab": {
          "base_uri": "https://localhost:8080/"
        },
        "id": "WLnOa2fySKAD",
        "outputId": "8715dfef-58c1-45d7-ec0c-355e80d86908"
      },
      "execution_count": 27,
      "outputs": [
        {
          "output_type": "execute_result",
          "data": {
            "text/plain": [
              "[\"Bug's Life, A (1998)\",\n",
              " 'Toy Story 2 (1999)',\n",
              " \"Emperor's New Groove, The (2000)\",\n",
              " 'Asterix and the Vikings (Astérix et les Vikings) (2006)',\n",
              " 'Antz (1998)',\n",
              " 'Adventures of Rocky and Bullwinkle, The (2000)',\n",
              " 'Turbo (2013)',\n",
              " 'Moana (2016)',\n",
              " 'Monsters, Inc. (2001)',\n",
              " 'The Good Dinosaur (2015)']"
            ]
          },
          "metadata": {},
          "execution_count": 27
        }
      ]
    },
    {
      "cell_type": "markdown",
      "source": [
        "# Conclusion\n",
        "\n",
        "* In this project, I developed a movie recommender system using the MovieLens dataset. By leveraging content-based filtering techniques, I can suggest movies that users are likely to enjoy based on their preferences. This system can be further enhanced by incorporating collaborative filtering or hybrid methods to improve the quality of recommendations."
      ],
      "metadata": {
        "id": "GcyTKrlenzYx"
      }
    }
  ]
}